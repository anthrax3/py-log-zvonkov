{
 "cells": [
  {
   "cell_type": "code",
   "execution_count": 68,
   "metadata": {},
   "outputs": [],
   "source": [
    "import pandas as pd\n",
    "import numpy as np\n",
    "%matplotlib inline"
   ]
  },
  {
   "cell_type": "code",
   "execution_count": 69,
   "metadata": {},
   "outputs": [
    {
     "data": {
      "text/plain": [
       "Calldate       object\n",
       "Source         object\n",
       "Destination    object\n",
       "Duration        int64\n",
       "dtype: object"
      ]
     },
     "execution_count": 69,
     "metadata": {},
     "output_type": "execute_result"
    }
   ],
   "source": [
    "# загрузка информации лога звонков\n",
    "# columns = {0: \"Calldate\",1: \"Source\",2: \"Destination\",3:\"Disconnect Time\",4:\"origCause_value\",5:\"destCause_value\",6:\"origDeviceName\",7:\"destDeviceName\",8:\"outpulsedCallingPartyNumber\",9:\"outpulsedCalledPartyNumber\",10:\"Duration\"}\n",
    "columns = [\"Calldate\",\"Source\",\"Destination\",\"Disconnect Time\",\"origCause_value\",\n",
    "           \"destCause_value\",\"origDeviceName\",\"destDeviceName\",\"outpulsedCallingPartyNumber\",\n",
    "           \"outpulsedCalledPartyNumber\",\"Duration\",\"No\"]\n",
    "dtypes = {\"Calldate\":\"object\",\"Source\":\"str\",\"Destination\":\"object\",\"Disconnect Time\":\"object\",\"origCause_value\":\"object\",\n",
    "           \"destCause_value\":\"object\",\"origDeviceName\":\"object\",\"destDeviceName\":\"object\",\"outpulsedCallingPartyNumber\":\"object\",\n",
    "           \"outpulsedCalledPartyNumber\":\"object\",\"Duration\":\"int64\",\"No\":\"object\"}\n",
    "log_zvonkov = pd.read_csv( 'report-2017-11-01-2017-11-16.csv', ';', header = None,names=columns, dtype=dtypes)\n",
    "# log_zvonkov.head()\n",
    "# log_zvonkov.dtypes\n",
    "new_log = log_zvonkov[[\"Calldate\",\"Source\",\"Destination\",\"Duration\"]] # выбираем только нужные нам поля таблицы\n",
    "new_log.head()\n",
    "new_log.dtypes\n",
    "# new_log.to_csv(\"logs.csv\")"
   ]
  },
  {
   "cell_type": "code",
   "execution_count": 70,
   "metadata": {},
   "outputs": [],
   "source": [
    "# фильтрация по дате и времени\n",
    "\n",
    "begin_date = \"2017-11-02\"\n",
    "end_date = \"2017-11-03\"\n",
    "\n",
    "begin_datetime = \"{} 00:00:01\".format(begin_date)\n",
    "end_datetime = \"{} 23:59:59\".format(end_date)\n",
    "\n",
    "filter_date = (new_log[\"Calldate\"]>begin_datetime) & (new_log[\"Calldate\"]<end_datetime)\n",
    "new_log = new_log[filter_date]\n",
    "\n",
    "# END фильтрация по дате"
   ]
  },
  {
   "cell_type": "code",
   "execution_count": 71,
   "metadata": {},
   "outputs": [],
   "source": [
    "interval_time = ((\"13:00\", \"23:59\"), (\"13:00\", \"13:29\"), (\"13:30\", \"13:59\"), (\"14:00\", \"14:29\"), (\"14:30\", \"14:59\"),\n",
    "                     (\"15:00\", \"15:29\"), (\"15:30\", \"15:59\"), (\"16:00\", \"23:59\"))\n",
    "name_sheets = (\"лог звонков(итоговый)\", \"время 9-00 до 9-30\", \"время 9-30 до 10-00\", \"время 10-00 до 10-30\",\n",
    "                   \"время 10-30 до 11-00\",\n",
    "                   \"время 11-00 до 11-30\", \"время 11-30 до 12-00\", \"время 12-00 до 23-59\")"
   ]
  },
  {
   "cell_type": "code",
   "execution_count": 72,
   "metadata": {},
   "outputs": [
    {
     "data": {
      "text/html": [
       "<div>\n",
       "<style scoped>\n",
       "    .dataframe tbody tr th:only-of-type {\n",
       "        vertical-align: middle;\n",
       "    }\n",
       "\n",
       "    .dataframe tbody tr th {\n",
       "        vertical-align: top;\n",
       "    }\n",
       "\n",
       "    .dataframe thead th {\n",
       "        text-align: right;\n",
       "    }\n",
       "</style>\n",
       "<table border=\"1\" class=\"dataframe\">\n",
       "  <thead>\n",
       "    <tr style=\"text-align: right;\">\n",
       "      <th></th>\n",
       "      <th>Source</th>\n",
       "      <th>FioMPP</th>\n",
       "      <th>FioRg</th>\n",
       "      <th>Plan_result_unik_zvonok</th>\n",
       "    </tr>\n",
       "  </thead>\n",
       "  <tbody>\n",
       "    <tr>\n",
       "      <th>0</th>\n",
       "      <td>15106</td>\n",
       "      <td>Фахретдинов Данил</td>\n",
       "      <td>Бушуев Александр</td>\n",
       "      <td>5</td>\n",
       "    </tr>\n",
       "    <tr>\n",
       "      <th>1</th>\n",
       "      <td>15127</td>\n",
       "      <td>Моисеев Алексей</td>\n",
       "      <td>Бушуев Александр</td>\n",
       "      <td>5</td>\n",
       "    </tr>\n",
       "    <tr>\n",
       "      <th>2</th>\n",
       "      <td>15154</td>\n",
       "      <td>Шакиров Айнур</td>\n",
       "      <td>Бушуев Александр</td>\n",
       "      <td>5</td>\n",
       "    </tr>\n",
       "    <tr>\n",
       "      <th>3</th>\n",
       "      <td>15126</td>\n",
       "      <td>Джонбеков Джонбек</td>\n",
       "      <td>Дворников Александр</td>\n",
       "      <td>5</td>\n",
       "    </tr>\n",
       "    <tr>\n",
       "      <th>4</th>\n",
       "      <td>15103</td>\n",
       "      <td>Гасимова Лейсан</td>\n",
       "      <td>Дворников Александр</td>\n",
       "      <td>5</td>\n",
       "    </tr>\n",
       "  </tbody>\n",
       "</table>\n",
       "</div>"
      ],
      "text/plain": [
       "  Source             FioMPP                FioRg  Plan_result_unik_zvonok\n",
       "0  15106  Фахретдинов Данил     Бушуев Александр                        5\n",
       "1  15127    Моисеев Алексей     Бушуев Александр                        5\n",
       "2  15154      Шакиров Айнур     Бушуев Александр                        5\n",
       "3  15126  Джонбеков Джонбек  Дворников Александр                        5\n",
       "4  15103    Гасимова Лейсан  Дворников Александр                        5"
      ]
     },
     "execution_count": 72,
     "metadata": {},
     "output_type": "execute_result"
    }
   ],
   "source": [
    "# загрузка информации о принадлежности номеров телефонов к конкретным менеджерам\n",
    "columns = [\"Source\",\"FioMPP\",\"FioRg\",\"Plan_result_unik_zvonok\",\"\"]\n",
    "dtypes={\"Source\":\"str\",\"FioMPP\":\"object\",\"FioRg\":\"object\",\"Plan_result_unik_zvonok\":\"int64\"}\n",
    "list_cfg = pd.read_csv( 'list-num-tel.cfg', ';',header = None,names=columns, dtype = dtypes)\n",
    "list_cfg = list_cfg[columns[:-1]] # отсекаем последний столбец\n",
    "list_cfg.head()\n",
    "# list_cfg.dtypes"
   ]
  },
  {
   "cell_type": "code",
   "execution_count": 73,
   "metadata": {
    "scrolled": false
   },
   "outputs": [
    {
     "data": {
      "text/html": [
       "<div>\n",
       "<style scoped>\n",
       "    .dataframe tbody tr th:only-of-type {\n",
       "        vertical-align: middle;\n",
       "    }\n",
       "\n",
       "    .dataframe tbody tr th {\n",
       "        vertical-align: top;\n",
       "    }\n",
       "\n",
       "    .dataframe thead th {\n",
       "        text-align: right;\n",
       "    }\n",
       "</style>\n",
       "<table border=\"1\" class=\"dataframe\">\n",
       "  <thead>\n",
       "    <tr style=\"text-align: right;\">\n",
       "      <th></th>\n",
       "      <th>Calldate</th>\n",
       "      <th>Source</th>\n",
       "      <th>Destination</th>\n",
       "      <th>Duration</th>\n",
       "      <th>FioMPP</th>\n",
       "      <th>FioRg</th>\n",
       "      <th>Plan_result_unik_zvonok</th>\n",
       "    </tr>\n",
       "  </thead>\n",
       "  <tbody>\n",
       "    <tr>\n",
       "      <th>8458</th>\n",
       "      <td>2017-11-02 12:30:25</td>\n",
       "      <td>15154</td>\n",
       "      <td>+79600413283</td>\n",
       "      <td>67</td>\n",
       "      <td>Шакиров Айнур</td>\n",
       "      <td>Бушуев Александр</td>\n",
       "      <td>5.0</td>\n",
       "    </tr>\n",
       "    <tr>\n",
       "      <th>11336</th>\n",
       "      <td>2017-11-02 12:59:01</td>\n",
       "      <td>15154</td>\n",
       "      <td>+74957820130</td>\n",
       "      <td>72</td>\n",
       "      <td>Шакиров Айнур</td>\n",
       "      <td>Бушуев Александр</td>\n",
       "      <td>5.0</td>\n",
       "    </tr>\n",
       "    <tr>\n",
       "      <th>11482</th>\n",
       "      <td>2017-11-02 13:00:26</td>\n",
       "      <td>17101</td>\n",
       "      <td>+79600904757</td>\n",
       "      <td>0</td>\n",
       "      <td>Стальновская Елена</td>\n",
       "      <td>Кочергин Владислав</td>\n",
       "      <td>5.0</td>\n",
       "    </tr>\n",
       "    <tr>\n",
       "      <th>11660</th>\n",
       "      <td>2017-11-02 13:02:37</td>\n",
       "      <td>17101</td>\n",
       "      <td>+78362636469</td>\n",
       "      <td>17</td>\n",
       "      <td>Стальновская Елена</td>\n",
       "      <td>Кочергин Владислав</td>\n",
       "      <td>5.0</td>\n",
       "    </tr>\n",
       "    <tr>\n",
       "      <th>11773</th>\n",
       "      <td>2017-11-02 13:03:45</td>\n",
       "      <td>15154</td>\n",
       "      <td>+79495777255</td>\n",
       "      <td>0</td>\n",
       "      <td>Шакиров Айнур</td>\n",
       "      <td>Бушуев Александр</td>\n",
       "      <td>5.0</td>\n",
       "    </tr>\n",
       "  </tbody>\n",
       "</table>\n",
       "</div>"
      ],
      "text/plain": [
       "                  Calldate Source   Destination  Duration              FioMPP  \\\n",
       "8458   2017-11-02 12:30:25  15154  +79600413283        67       Шакиров Айнур   \n",
       "11336  2017-11-02 12:59:01  15154  +74957820130        72       Шакиров Айнур   \n",
       "11482  2017-11-02 13:00:26  17101  +79600904757         0  Стальновская Елена   \n",
       "11660  2017-11-02 13:02:37  17101  +78362636469        17  Стальновская Елена   \n",
       "11773  2017-11-02 13:03:45  15154  +79495777255         0       Шакиров Айнур   \n",
       "\n",
       "                    FioRg  Plan_result_unik_zvonok  \n",
       "8458     Бушуев Александр                      5.0  \n",
       "11336    Бушуев Александр                      5.0  \n",
       "11482  Кочергин Владислав                      5.0  \n",
       "11660  Кочергин Владислав                      5.0  \n",
       "11773    Бушуев Александр                      5.0  "
      ]
     },
     "execution_count": 73,
     "metadata": {},
     "output_type": "execute_result"
    }
   ],
   "source": [
    "data = new_log.merge(list_cfg,on=\"Source\",how=\"left\")\n",
    "data.head()\n",
    "data = data.dropna() # удаление отсутствующих данных,таким образом отфильтровали номера которые нас не интересуют\n",
    "data.to_csv(\"logs-fil.csv\")\n",
    "data.head()"
   ]
  },
  {
   "cell_type": "code",
   "execution_count": 74,
   "metadata": {},
   "outputs": [
    {
     "data": {
      "text/plain": [
       "Source\n",
       "15103     55\n",
       "15105     48\n",
       "15106     28\n",
       "15112     45\n",
       "15115     61\n",
       "15119     76\n",
       "15124     95\n",
       "15126     47\n",
       "15131     63\n",
       "15132     72\n",
       "15137     33\n",
       "15141     99\n",
       "15142     99\n",
       "15143    109\n",
       "15148     72\n",
       "15149     69\n",
       "15154     27\n",
       "15156     59\n",
       "15158     85\n",
       "15164     60\n",
       "15209     91\n",
       "17101    156\n",
       "17102     14\n",
       "17104    103\n",
       "17108     70\n",
       "17412    108\n",
       "17415     96\n",
       "Name: Destination, dtype: int64"
      ]
     },
     "execution_count": 74,
     "metadata": {},
     "output_type": "execute_result"
    }
   ],
   "source": [
    "# выборка общее кол-во набранных телефонов каждым из сотрудников\n",
    "group = data[\"Destination\"].groupby(data[\"Source\"])  \n",
    "group.count()\n",
    "# END выборка общее кол-во набранных телефонов каждым из сотрудников\n",
    "\n"
   ]
  },
  {
   "cell_type": "code",
   "execution_count": 91,
   "metadata": {},
   "outputs": [
    {
     "data": {
      "text/plain": [
       "Source\n",
       "15103    43\n",
       "15105    37\n",
       "15106    23\n",
       "15112    32\n",
       "15115    49\n",
       "15119    59\n",
       "15124    72\n",
       "15126    28\n",
       "15131    41\n",
       "15132    58\n",
       "15137    22\n",
       "15141    75\n",
       "15142    80\n",
       "15143    84\n",
       "15148    61\n",
       "15149    51\n",
       "15154    18\n",
       "15156    46\n",
       "15158    63\n",
       "15164    41\n",
       "15209    65\n",
       "17101    96\n",
       "17102    11\n",
       "17104    62\n",
       "17108    52\n",
       "17412    82\n",
       "17415    65\n",
       "Name: Destination, dtype: int64"
      ]
     },
     "execution_count": 91,
     "metadata": {},
     "output_type": "execute_result"
    }
   ],
   "source": [
    "# подсчет уникальных звонков\n",
    "result_unuque = group.nunique()\n",
    "result_unuque\n",
    "\n",
    "# END подсчет уникальных звонков"
   ]
  },
  {
   "cell_type": "code",
   "execution_count": 89,
   "metadata": {},
   "outputs": [
    {
     "data": {
      "text/plain": [
       "array([[43],\n",
       "       [37],\n",
       "       [23],\n",
       "       [32],\n",
       "       [49],\n",
       "       [59],\n",
       "       [72],\n",
       "       [28],\n",
       "       [41],\n",
       "       [58],\n",
       "       [22],\n",
       "       [75],\n",
       "       [80],\n",
       "       [84],\n",
       "       [61],\n",
       "       [51],\n",
       "       [18],\n",
       "       [46],\n",
       "       [63],\n",
       "       [41],\n",
       "       [65],\n",
       "       [96],\n",
       "       [11],\n",
       "       [62],\n",
       "       [52],\n",
       "       [82],\n",
       "       [65]])"
      ]
     },
     "execution_count": 89,
     "metadata": {},
     "output_type": "execute_result"
    }
   ],
   "source": [
    "result_unuque_tel = result_unuque.to_frame()\n",
    "# result_unuque_tel.rename(columns = {\"Source\",\"Unique_tel\"})\n",
    "result_unuque_tel.values\n"
   ]
  },
  {
   "cell_type": "code",
   "execution_count": null,
   "metadata": {
    "scrolled": true
   },
   "outputs": [],
   "source": [
    "# не работает, сделать\n",
    "result_table_log = list_cfg.merge(result_unuque_tel,on=\"Source\",how=\"left\")\n",
    "result_table_log"
   ]
  },
  {
   "cell_type": "code",
   "execution_count": 53,
   "metadata": {},
   "outputs": [],
   "source": [
    "%quickref"
   ]
  }
 ],
 "metadata": {
  "kernelspec": {
   "display_name": "Python 3",
   "language": "python",
   "name": "python3"
  },
  "language_info": {
   "codemirror_mode": {
    "name": "ipython",
    "version": 3
   },
   "file_extension": ".py",
   "mimetype": "text/x-python",
   "name": "python",
   "nbconvert_exporter": "python",
   "pygments_lexer": "ipython3",
   "version": "3.6.3"
  }
 },
 "nbformat": 4,
 "nbformat_minor": 2
}
